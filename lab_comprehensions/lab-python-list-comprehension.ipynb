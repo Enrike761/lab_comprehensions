{
 "cells": [
  {
   "cell_type": "markdown",
   "id": "25d7736c-ba17-4aff-b6bb-66eba20fbf4e",
   "metadata": {},
   "source": [
    "# Lab | List, Dict and Set Comprehension"
   ]
  },
  {
   "cell_type": "markdown",
   "id": "5d500160-2fb7-4777-b5e4-09d45ebaf328",
   "metadata": {},
   "source": [
    "In the previous exercise, you developed a program to manage customer orders and inventory. Now, let's take it a step further and incorporate comprehension into your code.\n",
    "\n",
    "Follow the steps below to complete the exercise:\n",
    "\n",
    "1. Review your code from the previous exercise and identify areas where you can apply comprehension to simplify and streamline your code. \n",
    "\n",
    "    - *Hint: Apply it to initialize inventory, updating the inventory and printing the updated inventory.*\n",
    "    \n",
    "    - For example, in initializing the inventory, we could have:\n",
    "    \n",
    "        ```python\n",
    "        def initialize_inventory(products):\n",
    "            inventory = {product: int(input(f\"Enter the quantity of {product}s available: \")) for product in products}\n",
    "            return inventory\n",
    "\n",
    "        ```\n",
    "<br>\n",
    "    \n",
    "    \n",
    "2. Modify the function get_customer_orders so it prompts the user to enter the number of customer orders and gathers the product names using a loop and user input. Use comprehension.\n",
    "\n",
    "3. Add a new function to calculate the total price of the customer order. For each product in customer_orders, prompt the user to enter the price of that product. Use comprehension to calculate the total price. Note: assume that the user can only have 1 unit of each product.\n",
    "\n",
    "4. Modify the update_inventory function to remove the product from the inventory if its quantity becomes zero after fulfilling the customer orders. Use comprehension to filter out the products with a quantity of zero from the inventory.\n",
    "\n",
    "5. Print the total price of the customer order.\n",
    "\n",
    "Your code should produce output similar to the following:\n",
    "\n",
    "```python\n",
    "Enter the quantity of t-shirts available:  5\n",
    "Enter the quantity of mugs available:  4\n",
    "Enter the quantity of hats available:  3\n",
    "Enter the quantity of books available:  2\n",
    "Enter the quantity of keychains available:  1\n",
    "Enter the number of customer orders:  2\n",
    "Enter the name of a product that a customer wants to order:  hat\n",
    "Enter the name of a product that a customer wants to order:  keychain\n",
    "\n",
    "Order Statistics:\n",
    "Total Products Ordered: 2\n",
    "Percentage of Unique Products Ordered: 40.0\n",
    "\n",
    "Updated Inventory:\n",
    "t-shirt: 5\n",
    "mug: 4\n",
    "hat: 2\n",
    "book: 2\n",
    "Enter the price of keychain:  5\n",
    "Enter the price of hat:  10\n",
    "Total Price: 15.0\n",
    "\n",
    "```\n"
   ]
  },
  {
   "cell_type": "markdown",
   "id": "7dd3cbde-675a-4b81-92c3-f728846dbe06",
   "metadata": {},
   "source": [
    "## Exercise: Managing Customer Orders Optimized with Comprehension"
   ]
  },
  {
   "cell_type": "code",
   "execution_count": 32,
   "id": "c8685f0c-b156-47b3-b093-fab6a2f4c052",
   "metadata": {},
   "outputs": [],
   "source": [
    "#Exercise 1"
   ]
  },
  {
   "cell_type": "code",
   "execution_count": 33,
   "id": "a82eaf5f-47f9-4090-b6f5-44b6778eee00",
   "metadata": {},
   "outputs": [],
   "source": [
    "products = [\"t-shirt\", \"mug\", \"hat\", \"book\", \"keychain\"]"
   ]
  },
  {
   "cell_type": "code",
   "execution_count": 34,
   "id": "00b307c8-cc96-4563-93c4-a13921494242",
   "metadata": {},
   "outputs": [],
   "source": [
    "def initialize_inventory(products_list):\n",
    "    inventory={product:int(input(f\"introduce la cantidad de {product} disponible\")) for product in products_list}\n",
    "    return inventory"
   ]
  },
  {
   "cell_type": "code",
   "execution_count": 35,
   "id": "903c149c-0012-4f28-b6fe-02c037fe5c22",
   "metadata": {},
   "outputs": [
    {
     "name": "stdin",
     "output_type": "stream",
     "text": [
      "introduce la cantidad de t-shirt deseada 4\n",
      "introduce la cantidad de mug deseada 6\n",
      "introduce la cantidad de hat deseada 3\n",
      "introduce la cantidad de book deseada 6\n",
      "introduce la cantidad de keychain deseada 7\n"
     ]
    }
   ],
   "source": [
    "inventory = initialize_inventory(products)"
   ]
  },
  {
   "cell_type": "code",
   "execution_count": 36,
   "id": "ab9ef3c5-4a6c-42b0-a090-4e784cda81c5",
   "metadata": {},
   "outputs": [
    {
     "name": "stdout",
     "output_type": "stream",
     "text": [
      "{'t-shirt': 4, 'mug': 6, 'hat': 3, 'book': 6, 'keychain': 7}\n"
     ]
    }
   ],
   "source": [
    "print(inventory)"
   ]
  },
  {
   "cell_type": "code",
   "execution_count": 37,
   "id": "24ea7c93-c36e-4041-9120-036481415e34",
   "metadata": {},
   "outputs": [],
   "source": [
    "#Exercise 2"
   ]
  },
  {
   "cell_type": "code",
   "execution_count": 38,
   "id": "8c55d1a6-05bc-4d17-b839-046914d91e85",
   "metadata": {},
   "outputs": [
    {
     "ename": "SyntaxError",
     "evalue": "invalid syntax (2715319420.py, line 4)",
     "output_type": "error",
     "traceback": [
      "\u001b[1;36m  Cell \u001b[1;32mIn[38], line 4\u001b[1;36m\u001b[0m\n\u001b[1;33m    customer_orders = {respuesta for x in products2 if respuesta.lower() == \"yes\": customer_orders.add(x) else: break}\u001b[0m\n\u001b[1;37m                                                                                 ^\u001b[0m\n\u001b[1;31mSyntaxError\u001b[0m\u001b[1;31m:\u001b[0m invalid syntax\n"
     ]
    }
   ],
   "source": [
    "def get_customer_orders():\n",
    "    products2 = [\"t-shirt\", \"mug\", \"hat\", \"book\", \"keychain\"]\n",
    "    respuesta = input(f\"\"\"quieres pedir {x}, yes/no\"\"\")\n",
    "    customer_orders = {respuesta for x in products2 if respuesta.lower() == \"yes\": customer_orders.add(x) else: break}\n",
    "            break\n",
    "    return customer_orders\n",
    "customer_orders=get_customer_orders()\n",
    "print(customer_orders)"
   ]
  },
  {
   "cell_type": "code",
   "execution_count": null,
   "id": "079d3191-35ba-476d-8f03-51b19de21a61",
   "metadata": {},
   "outputs": [],
   "source": [
    "#Comprehensions aren’t suited for operations that involve break statements, like ending the loop based on a condition (such as an invalid input).\n",
    "#Comprehensions work well for filtering and transforming elements but not for complex logic that involves multiple conditions, side effects, or breaking out of loops."
   ]
  },
  {
   "cell_type": "code",
   "execution_count": 41,
   "id": "088aeed3-e1c2-4067-908f-1d2c9cbd74f5",
   "metadata": {},
   "outputs": [
    {
     "name": "stdin",
     "output_type": "stream",
     "text": [
      "Quieres pedir t-shirt? yes/no:  yes\n",
      "Quieres pedir mug? yes/no:  no\n",
      "Quieres pedir hat? yes/no:  no\n",
      "Quieres pedir book? yes/no:  no\n",
      "Quieres pedir keychain? yes/no:  yes\n"
     ]
    },
    {
     "name": "stdout",
     "output_type": "stream",
     "text": [
      "your order:  {'keychain', 't-shirt'}\n"
     ]
    }
   ],
   "source": [
    "def get_customer_orders():\n",
    "    customer_orders = {product for product in products if input(f\"Quieres pedir {product}? yes/no: \").strip().lower() == \"yes\"}\n",
    "    return customer_orders\n",
    "customer_orders=get_customer_orders()\n",
    "print(\"your order: \", customer_orders)"
   ]
  },
  {
   "cell_type": "code",
   "execution_count": 43,
   "id": "b8b4dd0b-56b3-4cb3-925b-ece222c623af",
   "metadata": {},
   "outputs": [
    {
     "name": "stdout",
     "output_type": "stream",
     "text": [
      "{'keychain', 't-shirt'}\n"
     ]
    }
   ],
   "source": [
    "print(customer_orders)"
   ]
  },
  {
   "cell_type": "code",
   "execution_count": null,
   "id": "4815baa6-8f08-49e7-83fe-5f85161f56d4",
   "metadata": {},
   "outputs": [],
   "source": [
    "#exercise 3"
   ]
  },
  {
   "cell_type": "code",
   "execution_count": 45,
   "id": "80567935-6f72-4eb3-84e6-ba62c0e074c4",
   "metadata": {},
   "outputs": [
    {
     "name": "stdout",
     "output_type": "stream",
     "text": [
      "<function total_price at 0x0000029BF4B53E20>\n"
     ]
    }
   ],
   "source": [
    "def total_price():\n",
    "    price = [float(input(f\"introduce precio de {orders}\")) for orders in customer_orders] #[] comprehension list\n",
    "    total_price = sum(price)\n",
    "    return total_price\n",
    "print(total_price)\n"
   ]
  },
  {
   "cell_type": "code",
   "execution_count": 49,
   "id": "fa61a56b-43a8-4783-ab17-e4b2698717d8",
   "metadata": {},
   "outputs": [
    {
     "name": "stdin",
     "output_type": "stream",
     "text": [
      "introduce precio de keychain 54\n",
      "introduce precio de t-shirt 23\n"
     ]
    },
    {
     "data": {
      "text/plain": [
       "77.0"
      ]
     },
     "execution_count": 49,
     "metadata": {},
     "output_type": "execute_result"
    }
   ],
   "source": [
    "total_price()"
   ]
  },
  {
   "cell_type": "code",
   "execution_count": null,
   "id": "02a2a849-6c52-4d5c-b260-201cd4310f9f",
   "metadata": {},
   "outputs": [],
   "source": [
    "#Exercise 4"
   ]
  },
  {
   "cell_type": "code",
   "execution_count": 57,
   "id": "e4c5cafd-be86-4f79-9943-8741e76884bd",
   "metadata": {},
   "outputs": [],
   "source": [
    "def update_inventory(customer_orders_updated,inventory_updated):\n",
    "    decremented_dict = {product: inventory_updated[product] -1\n",
    "                        for product in customer_orders_updated if product in inventory_updated}\n",
    "    inventory_updated.update(decremented_dict)\n",
    "    return inventory_updated"
   ]
  },
  {
   "cell_type": "code",
   "execution_count": 59,
   "id": "b6e59f77-b3e4-487f-bc48-8161711139e3",
   "metadata": {},
   "outputs": [
    {
     "data": {
      "text/plain": [
       "{'t-shirt': 3, 'mug': 6, 'hat': 3, 'book': 6, 'keychain': 6}"
      ]
     },
     "execution_count": 59,
     "metadata": {},
     "output_type": "execute_result"
    }
   ],
   "source": [
    "update_inventory(customer_orders,inventory)"
   ]
  },
  {
   "cell_type": "code",
   "execution_count": null,
   "id": "5cbcfd8d-7e1f-4431-9bab-bfa0baf164af",
   "metadata": {},
   "outputs": [],
   "source": [
    "#using a comprehension to directly modify the dictionary in-place is not possible in a single step due to the nature of comprehensions in Python (they don’t inherently support in-place updates)"
   ]
  },
  {
   "cell_type": "code",
   "execution_count": null,
   "id": "1e10f7b2-e2df-48cf-b7c9-a7d6b79867c2",
   "metadata": {},
   "outputs": [],
   "source": [
    "#Exercise 5"
   ]
  },
  {
   "cell_type": "code",
   "execution_count": 65,
   "id": "9d5e4fc7-c434-4ef4-9cdc-3700eedee819",
   "metadata": {},
   "outputs": [
    {
     "name": "stdin",
     "output_type": "stream",
     "text": [
      "introduce precio de keychain 23\n",
      "introduce precio de t-shirt 54\n"
     ]
    },
    {
     "name": "stdout",
     "output_type": "stream",
     "text": [
      "77.0\n"
     ]
    }
   ],
   "source": [
    "print(total_price()) #total_price() takes 0 positional arguments"
   ]
  },
  {
   "cell_type": "code",
   "execution_count": null,
   "id": "bb23754d-5236-4831-a51b-d622dba58f43",
   "metadata": {},
   "outputs": [],
   "source": []
  }
 ],
 "metadata": {
  "kernelspec": {
   "display_name": "Python 3 (ipykernel)",
   "language": "python",
   "name": "python3"
  },
  "language_info": {
   "codemirror_mode": {
    "name": "ipython",
    "version": 3
   },
   "file_extension": ".py",
   "mimetype": "text/x-python",
   "name": "python",
   "nbconvert_exporter": "python",
   "pygments_lexer": "ipython3",
   "version": "3.12.4"
  }
 },
 "nbformat": 4,
 "nbformat_minor": 5
}
